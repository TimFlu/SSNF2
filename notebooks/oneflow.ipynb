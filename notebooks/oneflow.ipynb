{
 "cells": [
  {
   "cell_type": "code",
   "execution_count": 1,
   "id": "dedf88f8",
   "metadata": {},
   "outputs": [
    {
     "name": "stdout",
     "output_type": "stream",
     "text": [
      "True\n"
     ]
    }
   ],
   "source": [
    "from scipy.stats import chi2, expon, weibull_min\n",
    "import matplotlib.pyplot as plt\n",
    "import numpy as np\n",
    "import pandas as pd\n",
    "from sklearn.preprocessing import MinMaxScaler, QuantileTransformer\n",
    "from sklearn.model_selection import train_test_split\n",
    "from copy import deepcopy\n",
    "import os\n",
    "\n",
    "import torch\n",
    "from torch import nn\n",
    "from torch import optim\n",
    "from torch.nn import functional as F\n",
    "from torch.utils.data import Dataset, DataLoader\n",
    "\n",
    "import nflows\n",
    "from nflows import flows, transforms\n",
    "from nflows.flows.base import Flow\n",
    "from nflows.distributions.normal import ConditionalDiagonalNormal\n",
    "from nflows.transforms.base import CompositeTransform\n",
    "from nflows.transforms.autoregressive import MaskedAffineAutoregressiveTransform\n",
    "from nflows.transforms.permutations import ReversePermutation\n",
    "from nflows.nn.nets import ResidualNet\n",
    "\n",
    "np.random.seed(100)\n",
    "print(torch.cuda.is_available())"
   ]
  },
  {
   "cell_type": "code",
   "execution_count": 2,
   "id": "2cb4ad33",
   "metadata": {},
   "outputs": [
    {
     "name": "stdout",
     "output_type": "stream",
     "text": [
      "0\n",
      "cuda\n"
     ]
    }
   ],
   "source": [
    "print(torch.cuda.current_device())\n",
    "device = torch.device(\"cuda\" if torch.cuda.is_available() else \"cpu\")\n",
    "print(device)"
   ]
  },
  {
   "cell_type": "code",
   "execution_count": 3,
   "id": "c2a69c25",
   "metadata": {},
   "outputs": [],
   "source": [
    "class MyDataset(Dataset):\n",
    "    def __init__(\n",
    "        self,\n",
    "        dataframe,\n",
    "        context_variables,\n",
    "        target_variables,\n",
    "        device=None,\n",
    "        rows=None,\n",
    "    ):\n",
    "        self.context_variables = context_variables\n",
    "        self.target_variables = target_variables\n",
    "        self.all_variables = context_variables + target_variables\n",
    "        data = dataframe\n",
    "        if rows is not None:\n",
    "            data = data.iloc[:rows]\n",
    "        self.target = data[target_variables].values\n",
    "        self.context = data[context_variables].values\n",
    "        self.weights = data[['weight']].values\n",
    "        if device is not None:\n",
    "            self.target = torch.tensor(self.target, dtype=torch.float32).to(device)\n",
    "            self.context = torch.tensor(self.context, dtype=torch.float32).to(device)\n",
    "            self.weights = torch.tensor(self.weights, dtype=torch.float32).to(device)\n",
    "\n",
    "    def __len__(self):\n",
    "        assert len(self.context) == len(self.target)\n",
    "        return len(self.target)\n",
    "\n",
    "    def __getitem__(self, idx):\n",
    "        return self.context[idx], self.target[idx], self.weights[idx]"
   ]
  },
  {
   "cell_type": "code",
   "execution_count": 4,
   "id": "3b45b44f",
   "metadata": {},
   "outputs": [],
   "source": [
    "input_dir = \"./samples\"\n",
    "df = pd.read_parquet(os.path.join(input_dir, \"train.parquet\"))\n",
    "df_target = pd.read_parquet(os.path.join(input_dir, \"train_target.parquet\"))\n",
    "df_test = pd.read_parquet(os.path.join(input_dir, \"test.parquet\"))\n",
    "df_target_test = pd.read_parquet(os.path.join(input_dir, \"test_target.parquet\"))"
   ]
  },
  {
   "cell_type": "code",
   "execution_count": 5,
   "id": "2e3562d2",
   "metadata": {},
   "outputs": [],
   "source": [
    "df['lab'] = 1\n",
    "df_test['lab'] = 1\n",
    "df_target['lab'] = 0\n",
    "df_target_test['lab'] = 0"
   ]
  },
  {
   "cell_type": "code",
   "execution_count": 6,
   "id": "abf55916",
   "metadata": {},
   "outputs": [],
   "source": [
    "new_df_train = pd.concat([df, df_target])\n",
    "new_df_train = new_df_train.reset_index(drop=True)\n",
    "new_df_train = new_df_train.sample(frac=1).reset_index(drop=True)\n",
    "new_df_test = pd.concat([df_test, df_target_test])\n",
    "new_df_test = new_df_test.reset_index(drop=True)\n",
    "new_df_test = new_df_test.sample(frac=1).reset_index(drop=True)"
   ]
  },
  {
   "cell_type": "code",
   "execution_count": 7,
   "id": "0e4b7a6b",
   "metadata": {},
   "outputs": [
    {
     "name": "stdout",
     "output_type": "stream",
     "text": [
      "2800000 1200000\n"
     ]
    }
   ],
   "source": [
    "context_vars = ['a', 'b', 'lab']\n",
    "input_vars = ['x', 'y']\n",
    "rows = 200000\n",
    "rows_test = 100000\n",
    "batch_size = 1000\n",
    "print(len(new_df_train), len(new_df_test))\n",
    "\n",
    "new_dataset_train = MyDataset(new_df_train, context_vars, input_vars, device=device, rows=rows)\n",
    "new_loader_train = DataLoader(new_dataset_train, batch_size=batch_size)\n",
    "new_dataset_test = MyDataset(new_df_test, context_vars, input_vars, device=device, rows=rows)\n",
    "new_loader_test = DataLoader(new_dataset_test, batch_size=batch_size)"
   ]
  },
  {
   "cell_type": "code",
   "execution_count": 8,
   "id": "49c0b74c",
   "metadata": {},
   "outputs": [],
   "source": [
    "def apply(flow, df_mc, df_data):\n",
    "    abl = torch.tensor(df_mc[['a', 'b', 'lab']].values, dtype=torch.float32).to(device)\n",
    "    xy_uncorr = torch.tensor(df_mc[['x', 'y']].values, dtype=torch.float32).to(device)\n",
    "    xy_uncorr_latent = flow._transform(xy_uncorr, abl)[0]\n",
    "    x_uncorr_latent, y_uncorr_latent = xy_uncorr_latent[:, 0].detach().cpu().numpy(), xy_uncorr_latent[:, 1].detach().cpu().numpy()\n",
    "    x_uncorr, y_uncorr = xy_uncorr[:, 0].detach().cpu().numpy(), xy_uncorr[:, 1].detach().cpu().numpy()\n",
    "    #weights = torch.tensor(df_mc['weight'].values).to(device)\n",
    "    \n",
    "    # second part of transformation\n",
    "    zeros = torch.zeros(xy_uncorr_latent.shape[0], 1).to(device)\n",
    "    ab = torch.tensor(df_mc[['a', 'b']].values, dtype=torch.float32).to(device)\n",
    "    abl = torch.cat((ab, zeros), axis=1)\n",
    "    xy_corr = flow._transform.inverse(xy_uncorr_latent, abl)[0]\n",
    "    x_corr, y_corr = xy_corr[:, 0].detach().cpu().numpy(), xy_corr[:, 1].detach().cpu().numpy()\n",
    "    \n",
    "    # get from data\n",
    "    x_data, y_data = df_data[['x']].values, df_data[['y']].values\n",
    "    \n",
    "    #weights = weights.detach().cpu().values\n",
    "    weights = df_mc['weight'].values\n",
    "    \"\"\"\n",
    "    fig, (ax1, ax2) = plt.subplots(1, 2, figsize=(15, 4))\n",
    "    ax1.hist(x_uncorr_latent, bins=100, density=True, label='latent', weights=weights)\n",
    "    ax1.set_xlabel('x')\n",
    "    ax1.legend()\n",
    "    ax2.hist(y_uncorr_latent, bins=100, density=True, label='latent', weights=weights)\n",
    "    ax2.set_xlabel('y')\n",
    "    ax2.legend()\n",
    "    plt.show()\n",
    "    \"\"\"\n",
    "    \n",
    "    fig, (ax1, ax2) = plt.subplots(1, 2, figsize=(15, 4))\n",
    "    ax1.hist(x_uncorr, bins=100, density=True, label='uncorr', weights=weights)\n",
    "    ax1.hist(x_data, bins=100, density=True, label='data')\n",
    "    ax1.hist(x_corr, bins=100, density=True, label='corr', alpha=0.5, weights=weights)\n",
    "    ax1.set_xlabel('x')\n",
    "    ax1.legend()\n",
    "    ax2.hist(y_uncorr, bins=100, density=True, label='uncorr', weights=weights)\n",
    "    ax2.hist(y_data, bins=100, density=True, label='data')\n",
    "    ax2.hist(y_corr, bins=100, density=True, label='corr', alpha=0.5, weights=weights)\n",
    "    ax2.set_xlabel('y')\n",
    "    ax2.legend()\n",
    "    plt.show()"
   ]
  },
  {
   "cell_type": "code",
   "execution_count": 9,
   "id": "8311b202",
   "metadata": {},
   "outputs": [],
   "source": [
    "ninput = 2\n",
    "ncontext = 3\n",
    "\n",
    "epochs = 30\n",
    "plot_every = 10\n",
    "\n",
    "def spline_inn(\n",
    "    inp_dim,\n",
    "    nodes=128,\n",
    "    num_blocks=2,\n",
    "    num_stack=3,\n",
    "    tail_bound=3.5,\n",
    "    tails=\"linear\",\n",
    "    activation=F.relu,\n",
    "    lu=0,\n",
    "    num_bins=12,\n",
    "    context_features=None,\n",
    "    dropout_probability=0.0,\n",
    "    flow_for_flow=False,\n",
    "):\n",
    "    transform_list = []\n",
    "    for i in range(num_stack):\n",
    "        transform_list += [\n",
    "            transforms.MaskedPiecewiseRationalQuadraticAutoregressiveTransform(\n",
    "                inp_dim,\n",
    "                nodes,\n",
    "                num_blocks=num_blocks,\n",
    "                tail_bound=tail_bound,\n",
    "                num_bins=num_bins,\n",
    "                tails=tails,\n",
    "                activation=activation,\n",
    "                dropout_probability=dropout_probability,\n",
    "                context_features=context_features,\n",
    "            )\n",
    "        ]\n",
    "        if lu:\n",
    "            transform_list += [transforms.LULinear(inp_dim)]\n",
    "        else:\n",
    "            transform_list += [transforms.ReversePermutation(inp_dim)]\n",
    "\n",
    "    if not (flow_for_flow and (num_stack % 2 == 0)):\n",
    "        # If the above conditions are satisfied then you want to permute back to the original ordering such that the\n",
    "        # output features line up with their original ordering.\n",
    "        transform_list = transform_list[:-1]\n",
    "\n",
    "    return transforms.CompositeTransform(transform_list)\n",
    "\n",
    "def get_conditional_base_flow(\n",
    "    input_dim,\n",
    "    context_dim,\n",
    "    nstack,\n",
    "    nnodes,\n",
    "    nblocks,\n",
    "    tail_bound,\n",
    "    nbins,\n",
    "    activation,\n",
    "    dropout_probability,\n",
    "):\n",
    "    flow = Flow(\n",
    "        spline_inn(\n",
    "            input_dim,\n",
    "            nodes=nnodes,\n",
    "            num_blocks=nblocks,\n",
    "            num_stack=nstack,\n",
    "            tail_bound=tail_bound,\n",
    "            activation=getattr(F, activation),\n",
    "            dropout_probability=dropout_probability,\n",
    "            num_bins=nbins,\n",
    "            context_features=context_dim,\n",
    "        ),\n",
    "        ConditionalDiagonalNormal(\n",
    "            shape=[input_dim], context_encoder=nn.Linear(context_dim, 2 * input_dim)\n",
    "        ),\n",
    "    )\n",
    "\n",
    "    return flow\n",
    "\n",
    "def make_flow_and_train(loader, test_loader, df_test):\n",
    "    flow = get_conditional_base_flow(\n",
    "        input_dim=ninput,\n",
    "        context_dim=ncontext,\n",
    "        nstack=3,\n",
    "        nnodes=6,\n",
    "        nblocks=4,\n",
    "        tail_bound=1.0,\n",
    "        nbins=10,\n",
    "        activation=\"relu\",\n",
    "        dropout_probability=0.1,\n",
    "    )\n",
    "    flow = flow.to(device)\n",
    "    optimizer = optim.Adam(flow.parameters())\n",
    "\n",
    "    train_history, test_history = [], []\n",
    "    for epoch in range(epochs + 1):\n",
    "        print(epoch)\n",
    "        train_losses, test_losses = [], []\n",
    "\n",
    "        # train\n",
    "        for abl, xy, weights in loader:\n",
    "            loss = -flow.log_prob(inputs=xy, context=abl) * weights\n",
    "            loss = loss.mean()\n",
    "            train_losses.append(loss.item())\n",
    "            optimizer.zero_grad()\n",
    "            loss.backward()\n",
    "            optimizer.step()\n",
    "\n",
    "        epoch_train_loss = np.mean(train_losses)\n",
    "        train_history.append(epoch_train_loss)\n",
    "\n",
    "        # test\n",
    "        print('testing')\n",
    "        for abl, xy, weights in test_loader:\n",
    "            with torch.no_grad():\n",
    "                loss = -flow.log_prob(inputs=xy, context=abl) * weights\n",
    "                loss = loss.mean()\n",
    "                test_losses.append(loss.item())\n",
    "        \n",
    "        epoch_test_loss = np.mean(test_losses)\n",
    "        test_history.append(epoch_test_loss)\n",
    "\n",
    "        if epoch % plot_every == 0:\n",
    "            print(\"plotting\")\n",
    "            fig, (ax1, ax2, ax3) = plt.subplots(1, 3, figsize=(15, 4))\n",
    "            a, b, l, x, y = df_test['a'].values, df_test['b'].values, df_test['lab'], df_test['x'].values, df_test['y'].values\n",
    "            xy_sample = flow.sample(1, context=torch.tensor(df_test[['a', 'b', 'lab']].values, dtype=torch.float32).to(device)).reshape(-1, ninput)\n",
    "            x_sample = xy_sample[:, 0].detach().cpu().numpy()\n",
    "            y_sample = xy_sample[:, 1].detach().cpu().numpy()\n",
    "            #x_min = min(x.min(), x_sample.min())\n",
    "            #x_max = max(x.max(), x_sample.max())\n",
    "            x_min = 0\n",
    "            x_max = 1\n",
    "            ax1.hist(x, bins=100, range=(x_min, x_max), density=True, alpha=0.5, label='sample');\n",
    "            ax1.hist(x_sample, bins=100, range=(x_min, x_max), density=True, alpha=0.5, label='flow');\n",
    "            ax1.set_xlabel('x')\n",
    "            #y_min = min(y.min(), y_sample.min())\n",
    "            #y_max = max(y.max(), y_sample.max())\n",
    "            y_min = 0\n",
    "            y_max = 1\n",
    "            ax1.legend()\n",
    "            ax2.hist(y, bins=100, range=(y_min, y_max), density=True, alpha=0.5, label='sample');\n",
    "            ax2.hist(y_sample, bins=100, range=(y_min, y_max), density=True, alpha=0.5, label='flow');\n",
    "            ax2.set_xlabel('y')\n",
    "            ax2.legend()\n",
    "            # plot loss\n",
    "            ax3.plot(train_history, label='train')\n",
    "            ax3.plot(test_history, label='test')\n",
    "            ax3.legend()\n",
    "            plt.show()\n",
    "            apply(flow, df_test, df_target_test)\n",
    "    \n",
    "    return flow"
   ]
  },
  {
   "cell_type": "code",
   "execution_count": 10,
   "id": "ae512460",
   "metadata": {},
   "outputs": [
    {
     "name": "stdout",
     "output_type": "stream",
     "text": [
      "0\n",
      "testing\n",
      "plotting\n"
     ]
    },
    {
     "data": {
      "image/png": "[encoded data removed]",
      "text/plain": [
       "<Figure size 1080x288 with 3 Axes>"
      ]
     },
     "metadata": {
      "needs_background": "light"
     },
     "output_type": "display_data"
    },
    {
     "ename": "OutOfMemoryError",
     "evalue": "CUDA out of memory. Tried to allocate 92.00 MiB (GPU 0; 14.75 GiB total capacity; 13.54 GiB already allocated; 78.81 MiB free; 13.98 GiB reserved in total by PyTorch) If reserved memory is >> allocated memory try setting max_split_size_mb to avoid fragmentation.  See documentation for Memory Management and PYTORCH_CUDA_ALLOC_CONF",
     "output_type": "error",
     "traceback": [
      "\u001b[0;31m---------------------------------------------------------------------------\u001b[0m",
      "\u001b[0;31mOutOfMemoryError\u001b[0m                          Traceback (most recent call last)",
      "\u001b[0;32m/tmp/ipykernel_2702/2769949537.py\u001b[0m in \u001b[0;36m<module>\u001b[0;34m\u001b[0m\n\u001b[0;32m----> 1\u001b[0;31m \u001b[0mflow\u001b[0m \u001b[0;34m=\u001b[0m \u001b[0mmake_flow_and_train\u001b[0m\u001b[0;34m(\u001b[0m\u001b[0mnew_loader_train\u001b[0m\u001b[0;34m,\u001b[0m \u001b[0mnew_loader_test\u001b[0m\u001b[0;34m,\u001b[0m \u001b[0mnew_df_test\u001b[0m\u001b[0;34m)\u001b[0m\u001b[0;34m\u001b[0m\u001b[0;34m\u001b[0m\u001b[0m\n\u001b[0m",
      "\u001b[0;32m/tmp/ipykernel_2702/2509917213.py\u001b[0m in \u001b[0;36mmake_flow_and_train\u001b[0;34m(loader, test_loader, df_test)\u001b[0m\n\u001b[1;32m    147\u001b[0m             \u001b[0max3\u001b[0m\u001b[0;34m.\u001b[0m\u001b[0mlegend\u001b[0m\u001b[0;34m(\u001b[0m\u001b[0;34m)\u001b[0m\u001b[0;34m\u001b[0m\u001b[0;34m\u001b[0m\u001b[0m\n\u001b[1;32m    148\u001b[0m             \u001b[0mplt\u001b[0m\u001b[0;34m.\u001b[0m\u001b[0mshow\u001b[0m\u001b[0;34m(\u001b[0m\u001b[0;34m)\u001b[0m\u001b[0;34m\u001b[0m\u001b[0;34m\u001b[0m\u001b[0m\n\u001b[0;32m--> 149\u001b[0;31m             \u001b[0mapply\u001b[0m\u001b[0;34m(\u001b[0m\u001b[0mflow\u001b[0m\u001b[0;34m,\u001b[0m \u001b[0mdf_test\u001b[0m\u001b[0;34m,\u001b[0m \u001b[0mdf_target_test\u001b[0m\u001b[0;34m)\u001b[0m\u001b[0;34m\u001b[0m\u001b[0;34m\u001b[0m\u001b[0m\n\u001b[0m\u001b[1;32m    150\u001b[0m \u001b[0;34m\u001b[0m\u001b[0m\n\u001b[1;32m    151\u001b[0m     \u001b[0;32mreturn\u001b[0m \u001b[0mflow\u001b[0m\u001b[0;34m\u001b[0m\u001b[0;34m\u001b[0m\u001b[0m\n",
      "\u001b[0;32m/tmp/ipykernel_2702/3802725952.py\u001b[0m in \u001b[0;36mapply\u001b[0;34m(flow, df_mc, df_data)\u001b[0m\n\u001b[1;32m     11\u001b[0m     \u001b[0mab\u001b[0m \u001b[0;34m=\u001b[0m \u001b[0mtorch\u001b[0m\u001b[0;34m.\u001b[0m\u001b[0mtensor\u001b[0m\u001b[0;34m(\u001b[0m\u001b[0mdf_mc\u001b[0m\u001b[0;34m[\u001b[0m\u001b[0;34m[\u001b[0m\u001b[0;34m'a'\u001b[0m\u001b[0;34m,\u001b[0m \u001b[0;34m'b'\u001b[0m\u001b[0;34m]\u001b[0m\u001b[0;34m]\u001b[0m\u001b[0;34m.\u001b[0m\u001b[0mvalues\u001b[0m\u001b[0;34m,\u001b[0m \u001b[0mdtype\u001b[0m\u001b[0;34m=\u001b[0m\u001b[0mtorch\u001b[0m\u001b[0;34m.\u001b[0m\u001b[0mfloat32\u001b[0m\u001b[0;34m)\u001b[0m\u001b[0;34m.\u001b[0m\u001b[0mto\u001b[0m\u001b[0;34m(\u001b[0m\u001b[0mdevice\u001b[0m\u001b[0;34m)\u001b[0m\u001b[0;34m\u001b[0m\u001b[0;34m\u001b[0m\u001b[0m\n\u001b[1;32m     12\u001b[0m     \u001b[0mabl\u001b[0m \u001b[0;34m=\u001b[0m \u001b[0mtorch\u001b[0m\u001b[0;34m.\u001b[0m\u001b[0mcat\u001b[0m\u001b[0;34m(\u001b[0m\u001b[0;34m(\u001b[0m\u001b[0mab\u001b[0m\u001b[0;34m,\u001b[0m \u001b[0mzeros\u001b[0m\u001b[0;34m)\u001b[0m\u001b[0;34m,\u001b[0m \u001b[0maxis\u001b[0m\u001b[0;34m=\u001b[0m\u001b[0;36m1\u001b[0m\u001b[0;34m)\u001b[0m\u001b[0;34m\u001b[0m\u001b[0;34m\u001b[0m\u001b[0m\n\u001b[0;32m---> 13\u001b[0;31m     \u001b[0mxy_corr\u001b[0m \u001b[0;34m=\u001b[0m \u001b[0mflow\u001b[0m\u001b[0;34m.\u001b[0m\u001b[0m_transform\u001b[0m\u001b[0;34m.\u001b[0m\u001b[0minverse\u001b[0m\u001b[0;34m(\u001b[0m\u001b[0mxy_uncorr_latent\u001b[0m\u001b[0;34m,\u001b[0m \u001b[0mabl\u001b[0m\u001b[0;34m)\u001b[0m\u001b[0;34m[\u001b[0m\u001b[0;36m0\u001b[0m\u001b[0;34m]\u001b[0m\u001b[0;34m\u001b[0m\u001b[0;34m\u001b[0m\u001b[0m\n\u001b[0m\u001b[1;32m     14\u001b[0m     \u001b[0mx_corr\u001b[0m\u001b[0;34m,\u001b[0m \u001b[0my_corr\u001b[0m \u001b[0;34m=\u001b[0m \u001b[0mxy_corr\u001b[0m\u001b[0;34m[\u001b[0m\u001b[0;34m:\u001b[0m\u001b[0;34m,\u001b[0m \u001b[0;36m0\u001b[0m\u001b[0;34m]\u001b[0m\u001b[0;34m.\u001b[0m\u001b[0mdetach\u001b[0m\u001b[0;34m(\u001b[0m\u001b[0;34m)\u001b[0m\u001b[0;34m.\u001b[0m\u001b[0mcpu\u001b[0m\u001b[0;34m(\u001b[0m\u001b[0;34m)\u001b[0m\u001b[0;34m.\u001b[0m\u001b[0mnumpy\u001b[0m\u001b[0;34m(\u001b[0m\u001b[0;34m)\u001b[0m\u001b[0;34m,\u001b[0m \u001b[0mxy_corr\u001b[0m\u001b[0;34m[\u001b[0m\u001b[0;34m:\u001b[0m\u001b[0;34m,\u001b[0m \u001b[0;36m1\u001b[0m\u001b[0;34m]\u001b[0m\u001b[0;34m.\u001b[0m\u001b[0mdetach\u001b[0m\u001b[0;34m(\u001b[0m\u001b[0;34m)\u001b[0m\u001b[0;34m.\u001b[0m\u001b[0mcpu\u001b[0m\u001b[0;34m(\u001b[0m\u001b[0;34m)\u001b[0m\u001b[0;34m.\u001b[0m\u001b[0mnumpy\u001b[0m\u001b[0;34m(\u001b[0m\u001b[0;34m)\u001b[0m\u001b[0;34m\u001b[0m\u001b[0;34m\u001b[0m\u001b[0m\n\u001b[1;32m     15\u001b[0m \u001b[0;34m\u001b[0m\u001b[0m\n",
      "\u001b[0;32m~/.local/lib/python3.9/site-packages/nflows/transforms/base.py\u001b[0m in \u001b[0;36minverse\u001b[0;34m(self, inputs, context)\u001b[0m\n\u001b[1;32m     58\u001b[0m     \u001b[0;32mdef\u001b[0m \u001b[0minverse\u001b[0m\u001b[0;34m(\u001b[0m\u001b[0mself\u001b[0m\u001b[0;34m,\u001b[0m \u001b[0minputs\u001b[0m\u001b[0;34m,\u001b[0m \u001b[0mcontext\u001b[0m\u001b[0;34m=\u001b[0m\u001b[0;32mNone\u001b[0m\u001b[0;34m)\u001b[0m\u001b[0;34m:\u001b[0m\u001b[0;34m\u001b[0m\u001b[0;34m\u001b[0m\u001b[0m\n\u001b[1;32m     59\u001b[0m         \u001b[0mfuncs\u001b[0m \u001b[0;34m=\u001b[0m \u001b[0;34m(\u001b[0m\u001b[0mtransform\u001b[0m\u001b[0;34m.\u001b[0m\u001b[0minverse\u001b[0m \u001b[0;32mfor\u001b[0m \u001b[0mtransform\u001b[0m \u001b[0;32min\u001b[0m \u001b[0mself\u001b[0m\u001b[0;34m.\u001b[0m\u001b[0m_transforms\u001b[0m\u001b[0;34m[\u001b[0m\u001b[0;34m:\u001b[0m\u001b[0;34m:\u001b[0m\u001b[0;34m-\u001b[0m\u001b[0;36m1\u001b[0m\u001b[0;34m]\u001b[0m\u001b[0;34m)\u001b[0m\u001b[0;34m\u001b[0m\u001b[0;34m\u001b[0m\u001b[0m\n\u001b[0;32m---> 60\u001b[0;31m         \u001b[0;32mreturn\u001b[0m \u001b[0mself\u001b[0m\u001b[0;34m.\u001b[0m\u001b[0m_cascade\u001b[0m\u001b[0;34m(\u001b[0m\u001b[0minputs\u001b[0m\u001b[0;34m,\u001b[0m \u001b[0mfuncs\u001b[0m\u001b[0;34m,\u001b[0m \u001b[0mcontext\u001b[0m\u001b[0;34m)\u001b[0m\u001b[0;34m\u001b[0m\u001b[0;34m\u001b[0m\u001b[0m\n\u001b[0m\u001b[1;32m     61\u001b[0m \u001b[0;34m\u001b[0m\u001b[0m\n\u001b[1;32m     62\u001b[0m \u001b[0;34m\u001b[0m\u001b[0m\n",
      "\u001b[0;32m~/.local/lib/python3.9/site-packages/nflows/transforms/base.py\u001b[0m in \u001b[0;36m_cascade\u001b[0;34m(inputs, funcs, context)\u001b[0m\n\u001b[1;32m     48\u001b[0m         \u001b[0mtotal_logabsdet\u001b[0m \u001b[0;34m=\u001b[0m \u001b[0minputs\u001b[0m\u001b[0;34m.\u001b[0m\u001b[0mnew_zeros\u001b[0m\u001b[0;34m(\u001b[0m\u001b[0mbatch_size\u001b[0m\u001b[0;34m)\u001b[0m\u001b[0;34m\u001b[0m\u001b[0;34m\u001b[0m\u001b[0m\n\u001b[1;32m     49\u001b[0m         \u001b[0;32mfor\u001b[0m \u001b[0mfunc\u001b[0m \u001b[0;32min\u001b[0m \u001b[0mfuncs\u001b[0m\u001b[0;34m:\u001b[0m\u001b[0;34m\u001b[0m\u001b[0;34m\u001b[0m\u001b[0m\n\u001b[0;32m---> 50\u001b[0;31m             \u001b[0moutputs\u001b[0m\u001b[0;34m,\u001b[0m \u001b[0mlogabsdet\u001b[0m \u001b[0;34m=\u001b[0m \u001b[0mfunc\u001b[0m\u001b[0;34m(\u001b[0m\u001b[0moutputs\u001b[0m\u001b[0;34m,\u001b[0m \u001b[0mcontext\u001b[0m\u001b[0;34m)\u001b[0m\u001b[0;34m\u001b[0m\u001b[0;34m\u001b[0m\u001b[0m\n\u001b[0m\u001b[1;32m     51\u001b[0m             \u001b[0mtotal_logabsdet\u001b[0m \u001b[0;34m+=\u001b[0m \u001b[0mlogabsdet\u001b[0m\u001b[0;34m\u001b[0m\u001b[0;34m\u001b[0m\u001b[0m\n\u001b[1;32m     52\u001b[0m         \u001b[0;32mreturn\u001b[0m \u001b[0moutputs\u001b[0m\u001b[0;34m,\u001b[0m \u001b[0mtotal_logabsdet\u001b[0m\u001b[0;34m\u001b[0m\u001b[0;34m\u001b[0m\u001b[0m\n",
      "\u001b[0;32m~/.local/lib/python3.9/site-packages/nflows/transforms/autoregressive.py\u001b[0m in \u001b[0;36minverse\u001b[0;34m(self, inputs, context)\u001b[0m\n\u001b[1;32m     46\u001b[0m         \u001b[0;32mfor\u001b[0m \u001b[0m_\u001b[0m \u001b[0;32min\u001b[0m \u001b[0mrange\u001b[0m\u001b[0;34m(\u001b[0m\u001b[0mnum_inputs\u001b[0m\u001b[0;34m)\u001b[0m\u001b[0;34m:\u001b[0m\u001b[0;34m\u001b[0m\u001b[0;34m\u001b[0m\u001b[0m\n\u001b[1;32m     47\u001b[0m             \u001b[0mautoregressive_params\u001b[0m \u001b[0;34m=\u001b[0m \u001b[0mself\u001b[0m\u001b[0;34m.\u001b[0m\u001b[0mautoregressive_net\u001b[0m\u001b[0;34m(\u001b[0m\u001b[0moutputs\u001b[0m\u001b[0;34m,\u001b[0m \u001b[0mcontext\u001b[0m\u001b[0;34m)\u001b[0m\u001b[0;34m\u001b[0m\u001b[0;34m\u001b[0m\u001b[0m\n\u001b[0;32m---> 48\u001b[0;31m             outputs, logabsdet = self._elementwise_inverse(\n\u001b[0m\u001b[1;32m     49\u001b[0m                 \u001b[0minputs\u001b[0m\u001b[0;34m,\u001b[0m \u001b[0mautoregressive_params\u001b[0m\u001b[0;34m\u001b[0m\u001b[0;34m\u001b[0m\u001b[0m\n\u001b[1;32m     50\u001b[0m             )\n",
      "\u001b[0;32m~/.local/lib/python3.9/site-packages/nflows/transforms/autoregressive.py\u001b[0m in \u001b[0;36m_elementwise_inverse\u001b[0;34m(self, inputs, autoregressive_params)\u001b[0m\n\u001b[1;32m    427\u001b[0m \u001b[0;34m\u001b[0m\u001b[0m\n\u001b[1;32m    428\u001b[0m     \u001b[0;32mdef\u001b[0m \u001b[0m_elementwise_inverse\u001b[0m\u001b[0;34m(\u001b[0m\u001b[0mself\u001b[0m\u001b[0;34m,\u001b[0m \u001b[0minputs\u001b[0m\u001b[0;34m,\u001b[0m \u001b[0mautoregressive_params\u001b[0m\u001b[0;34m)\u001b[0m\u001b[0;34m:\u001b[0m\u001b[0;34m\u001b[0m\u001b[0;34m\u001b[0m\u001b[0m\n\u001b[0;32m--> 429\u001b[0;31m         \u001b[0;32mreturn\u001b[0m \u001b[0mself\u001b[0m\u001b[0;34m.\u001b[0m\u001b[0m_elementwise\u001b[0m\u001b[0;34m(\u001b[0m\u001b[0minputs\u001b[0m\u001b[0;34m,\u001b[0m \u001b[0mautoregressive_params\u001b[0m\u001b[0;34m,\u001b[0m \u001b[0minverse\u001b[0m\u001b[0;34m=\u001b[0m\u001b[0;32mTrue\u001b[0m\u001b[0;34m)\u001b[0m\u001b[0;34m\u001b[0m\u001b[0;34m\u001b[0m\u001b[0m\n\u001b[0m\u001b[1;32m    430\u001b[0m \u001b[0;34m\u001b[0m\u001b[0m\n\u001b[1;32m    431\u001b[0m \u001b[0;34m\u001b[0m\u001b[0m\n",
      "\u001b[0;32m~/.local/lib/python3.9/site-packages/nflows/transforms/autoregressive.py\u001b[0m in \u001b[0;36m_elementwise\u001b[0;34m(self, inputs, autoregressive_params, inverse)\u001b[0m\n\u001b[1;32m    409\u001b[0m             \u001b[0;32mraise\u001b[0m \u001b[0mValueError\u001b[0m\u001b[0;34m\u001b[0m\u001b[0;34m\u001b[0m\u001b[0m\n\u001b[1;32m    410\u001b[0m \u001b[0;34m\u001b[0m\u001b[0m\n\u001b[0;32m--> 411\u001b[0;31m         outputs, logabsdet = spline_fn(\n\u001b[0m\u001b[1;32m    412\u001b[0m             \u001b[0minputs\u001b[0m\u001b[0;34m=\u001b[0m\u001b[0minputs\u001b[0m\u001b[0;34m,\u001b[0m\u001b[0;34m\u001b[0m\u001b[0;34m\u001b[0m\u001b[0m\n\u001b[1;32m    413\u001b[0m             \u001b[0munnormalized_widths\u001b[0m\u001b[0;34m=\u001b[0m\u001b[0munnormalized_widths\u001b[0m\u001b[0;34m,\u001b[0m\u001b[0;34m\u001b[0m\u001b[0;34m\u001b[0m\u001b[0m\n",
      "\u001b[0;32m~/.local/lib/python3.9/site-packages/nflows/transforms/splines/rational_quadratic.py\u001b[0m in \u001b[0;36munconstrained_rational_quadratic_spline\u001b[0;34m(inputs, unnormalized_widths, unnormalized_heights, unnormalized_derivatives, inverse, tails, tail_bound, min_bin_width, min_bin_height, min_derivative)\u001b[0m\n\u001b[1;32m     44\u001b[0m             \u001b[0moutputs\u001b[0m\u001b[0;34m[\u001b[0m\u001b[0minside_interval_mask\u001b[0m\u001b[0;34m]\u001b[0m\u001b[0;34m,\u001b[0m\u001b[0;34m\u001b[0m\u001b[0;34m\u001b[0m\u001b[0m\n\u001b[1;32m     45\u001b[0m             \u001b[0mlogabsdet\u001b[0m\u001b[0;34m[\u001b[0m\u001b[0minside_interval_mask\u001b[0m\u001b[0;34m]\u001b[0m\u001b[0;34m,\u001b[0m\u001b[0;34m\u001b[0m\u001b[0;34m\u001b[0m\u001b[0m\n\u001b[0;32m---> 46\u001b[0;31m         \u001b[0;34m)\u001b[0m \u001b[0;34m=\u001b[0m \u001b[0mrational_quadratic_spline\u001b[0m\u001b[0;34m(\u001b[0m\u001b[0;34m\u001b[0m\u001b[0;34m\u001b[0m\u001b[0m\n\u001b[0m\u001b[1;32m     47\u001b[0m             \u001b[0minputs\u001b[0m\u001b[0;34m=\u001b[0m\u001b[0minputs\u001b[0m\u001b[0;34m[\u001b[0m\u001b[0minside_interval_mask\u001b[0m\u001b[0;34m]\u001b[0m\u001b[0;34m,\u001b[0m\u001b[0;34m\u001b[0m\u001b[0;34m\u001b[0m\u001b[0m\n\u001b[1;32m     48\u001b[0m             \u001b[0munnormalized_widths\u001b[0m\u001b[0;34m=\u001b[0m\u001b[0munnormalized_widths\u001b[0m\u001b[0;34m[\u001b[0m\u001b[0minside_interval_mask\u001b[0m\u001b[0;34m,\u001b[0m \u001b[0;34m:\u001b[0m\u001b[0;34m]\u001b[0m\u001b[0;34m,\u001b[0m\u001b[0;34m\u001b[0m\u001b[0;34m\u001b[0m\u001b[0m\n",
      "\u001b[0;32m~/.local/lib/python3.9/site-packages/nflows/transforms/splines/rational_quadratic.py\u001b[0m in \u001b[0;36mrational_quadratic_spline\u001b[0;34m(inputs, unnormalized_widths, unnormalized_heights, unnormalized_derivatives, inverse, left, right, bottom, top, min_bin_width, min_bin_height, min_derivative)\u001b[0m\n\u001b[1;32m     98\u001b[0m \u001b[0;34m\u001b[0m\u001b[0m\n\u001b[1;32m     99\u001b[0m     \u001b[0mheights\u001b[0m \u001b[0;34m=\u001b[0m \u001b[0mF\u001b[0m\u001b[0;34m.\u001b[0m\u001b[0msoftmax\u001b[0m\u001b[0;34m(\u001b[0m\u001b[0munnormalized_heights\u001b[0m\u001b[0;34m,\u001b[0m \u001b[0mdim\u001b[0m\u001b[0;34m=\u001b[0m\u001b[0;34m-\u001b[0m\u001b[0;36m1\u001b[0m\u001b[0;34m)\u001b[0m\u001b[0;34m\u001b[0m\u001b[0;34m\u001b[0m\u001b[0m\n\u001b[0;32m--> 100\u001b[0;31m     \u001b[0mheights\u001b[0m \u001b[0;34m=\u001b[0m \u001b[0mmin_bin_height\u001b[0m \u001b[0;34m+\u001b[0m \u001b[0;34m(\u001b[0m\u001b[0;36m1\u001b[0m \u001b[0;34m-\u001b[0m \u001b[0mmin_bin_height\u001b[0m \u001b[0;34m*\u001b[0m \u001b[0mnum_bins\u001b[0m\u001b[0;34m)\u001b[0m \u001b[0;34m*\u001b[0m \u001b[0mheights\u001b[0m\u001b[0;34m\u001b[0m\u001b[0;34m\u001b[0m\u001b[0m\n\u001b[0m\u001b[1;32m    101\u001b[0m     \u001b[0mcumheights\u001b[0m \u001b[0;34m=\u001b[0m \u001b[0mtorch\u001b[0m\u001b[0;34m.\u001b[0m\u001b[0mcumsum\u001b[0m\u001b[0;34m(\u001b[0m\u001b[0mheights\u001b[0m\u001b[0;34m,\u001b[0m \u001b[0mdim\u001b[0m\u001b[0;34m=\u001b[0m\u001b[0;34m-\u001b[0m\u001b[0;36m1\u001b[0m\u001b[0;34m)\u001b[0m\u001b[0;34m\u001b[0m\u001b[0;34m\u001b[0m\u001b[0m\n\u001b[1;32m    102\u001b[0m     \u001b[0mcumheights\u001b[0m \u001b[0;34m=\u001b[0m \u001b[0mF\u001b[0m\u001b[0;34m.\u001b[0m\u001b[0mpad\u001b[0m\u001b[0;34m(\u001b[0m\u001b[0mcumheights\u001b[0m\u001b[0;34m,\u001b[0m \u001b[0mpad\u001b[0m\u001b[0;34m=\u001b[0m\u001b[0;34m(\u001b[0m\u001b[0;36m1\u001b[0m\u001b[0;34m,\u001b[0m \u001b[0;36m0\u001b[0m\u001b[0;34m)\u001b[0m\u001b[0;34m,\u001b[0m \u001b[0mmode\u001b[0m\u001b[0;34m=\u001b[0m\u001b[0;34m\"constant\"\u001b[0m\u001b[0;34m,\u001b[0m \u001b[0mvalue\u001b[0m\u001b[0;34m=\u001b[0m\u001b[0;36m0.0\u001b[0m\u001b[0;34m)\u001b[0m\u001b[0;34m\u001b[0m\u001b[0;34m\u001b[0m\u001b[0m\n",
      "\u001b[0;31mOutOfMemoryError\u001b[0m: CUDA out of memory. Tried to allocate 92.00 MiB (GPU 0; 14.75 GiB total capacity; 13.54 GiB already allocated; 78.81 MiB free; 13.98 GiB reserved in total by PyTorch) If reserved memory is >> allocated memory try setting max_split_size_mb to avoid fragmentation.  See documentation for Memory Management and PYTORCH_CUDA_ALLOC_CONF"
     ]
    }
   ],
   "source": [
    "flow = make_flow_and_train(new_loader_train, new_loader_test, new_df_test)"
   ]
  },
  {
   "cell_type": "markdown",
   "id": "60cd2e43",
   "metadata": {},
   "source": [
    "## Apply it"
   ]
  },
  {
   "cell_type": "code",
   "execution_count": null,
   "id": "4077d2b7",
   "metadata": {},
   "outputs": [],
   "source": [
    "apply(flow, df_test, df_target_test)"
   ]
  },
  {
   "cell_type": "code",
   "execution_count": null,
   "id": "b9a77d5a",
   "metadata": {},
   "outputs": [],
   "source": []
  }
 ],
 "metadata": {
  "@webio": {
   "lastCommId": null,
   "lastKernelId": null
  },
  "kernelspec": {
   "display_name": "Python 3",
   "language": "python",
   "name": "python3"
  },
  "language_info": {
   "codemirror_mode": {
    "name": "ipython",
    "version": 3
   },
   "file_extension": ".py",
   "mimetype": "text/x-python",
   "name": "python",
   "nbconvert_exporter": "python",
   "pygments_lexer": "ipython3",
   "version": "3.9.12"
  }
 },
 "nbformat": 4,
 "nbformat_minor": 5
}
